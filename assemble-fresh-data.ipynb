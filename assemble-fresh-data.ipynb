{
 "cells": [
  {
   "cell_type": "code",
   "execution_count": 2,
   "metadata": {},
   "outputs": [
    {
     "name": "stdout",
     "output_type": "stream",
     "text": [
      "\n",
      "C:\\Users\\wue04\\Box Sync\\fresh\n",
      "\n",
      "\n"
     ]
    }
   ],
   "source": [
    "pwd\n",
    "set more off\n",
    "clear all"
   ]
  },
  {
   "cell_type": "code",
   "execution_count": 4,
   "metadata": {},
   "outputs": [
    {
     "name": "stdout",
     "output_type": "stream",
     "text": [
      "(8 vars, 32,882 obs)\n"
     ]
    }
   ],
   "source": [
    "import delimited raw-output\\closest-facility\\closest_2012.csv, clear"
   ]
  },
  {
   "cell_type": "code",
   "execution_count": 6,
   "metadata": {},
   "outputs": [
    {
     "name": "stdout",
     "output_type": "stream",
     "text": [
      "\n",
      "FacilityRan |\n",
      "          k |      Freq.     Percent        Cum.\n",
      "------------+-----------------------------------\n",
      "          1 |     27,674       84.16       84.16\n",
      "          2 |      2,987        9.08       93.25\n",
      "          3 |      1,704        5.18       98.43\n",
      "          4 |        517        1.57      100.00\n",
      "------------+-----------------------------------\n",
      "      Total |     32,882      100.00\n"
     ]
    }
   ],
   "source": [
    "tab facilityrank"
   ]
  }
 ],
 "metadata": {
  "kernelspec": {
   "display_name": "Stata",
   "language": "stata",
   "name": "stata"
  },
  "language_info": {
   "codemirror_mode": "stata",
   "file_extension": ".do",
   "mimetype": "text/x-stata",
   "name": "stata",
   "version": "15.1"
  }
 },
 "nbformat": 4,
 "nbformat_minor": 2
}
