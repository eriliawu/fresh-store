{
 "cells": [
  {
   "cell_type": "code",
   "execution_count": 17,
   "metadata": {},
   "outputs": [
    {
     "name": "stdout",
     "output_type": "stream",
     "text": [
      "\n",
      "C:\\Users\\wue04\\Box Sync\\fresh\n",
      "\n",
      "\n"
     ]
    }
   ],
   "source": [
    "pwd\n",
    "set more off\n",
    "clear all"
   ]
  },
  {
   "cell_type": "markdown",
   "metadata": {},
   "source": [
    "### clean up raw distance output from ArcGIS"
   ]
  },
  {
   "cell_type": "code",
   "execution_count": null,
   "metadata": {
    "scrolled": true
   },
   "outputs": [],
   "source": [
    "forvalues i=12/16 {\n",
    "    import delimited raw-output\\closest-facility\\closest_20`i'.csv, clear\n",
    "    keep facilityrank incidentid total name \n",
    "    rename facilityrank rank\n",
    "    rename total dist\n",
    "    rename incidentid id\n",
    "    split name, p(\" - \")\n",
    "    drop name name1\n",
    "    rename name2 name\n",
    "    reshape wide dist name, i(id) j(rank)\n",
    "    gen year=20`i'\n",
    "    compress\n",
    "    save data\\dist`i'.dta, replace\n",
    "}\n",
    "."
   ]
  },
  {
   "cell_type": "code",
   "execution_count": null,
   "metadata": {
    "scrolled": true
   },
   "outputs": [],
   "source": [
    "forvalues i=12/15 {\n",
    "    append using data\\dist`i'.dta\n",
    "    erase data\\dist`i'.dta\n",
    "}\n",
    ".\n",
    "\n",
    "merge 1:m id year using data\\address\\xy12-16.dta\n",
    "tab year"
   ]
  },
  {
   "cell_type": "code",
   "execution_count": null,
   "metadata": {},
   "outputs": [],
   "source": [
    "drop id _merge\n",
    "order x y year\n",
    "sort x y year\n",
    "compress\n",
    "save data\\distance_xy_allyears.dta, replace\n",
    "erase data\\dist16.dta"
   ]
  },
  {
   "cell_type": "markdown",
   "metadata": {},
   "source": [
    "### link xy distance to newid"
   ]
  },
  {
   "cell_type": "code",
   "execution_count": null,
   "metadata": {
    "scrolled": true
   },
   "outputs": [],
   "source": [
    "* clean up AP geocoded files\n",
    "forvalues i=12/16 {\n",
    "    use \"S:\\Restricted Data\\Geocoding\\AP\\newid ap coordinates 20`i'.dta\", clear\n",
    "    keep newid year xcoord ycoord *boro* *zip* *atitude* *ongitude*\n",
    "    rename xcoord x\n",
    "    rename ycoord y\n",
    "    rename *boro* boro\n",
    "    rename *zip* zipcode\n",
    "    rename *atitude* lat\n",
    "    rename *ongitude* lon\n",
    "    destring x y boro zipcode lat lon, replace\n",
    "    compress\n",
    "    save S:\\Personal\\hw1220\\fresh\\data\\newid_xy_`i'.dta, replace\n",
    "}\n",
    "."
   ]
  },
  {
   "cell_type": "code",
   "execution_count": null,
   "metadata": {},
   "outputs": [],
   "source": [
    "forvalues i=12/15 {\n",
    "    append using S:\\Personal\\hw1220\\fresh\\data\\newid_xy_`i'.dta\n",
    "    erase S:\\Personal\\hw1220\\fresh\\data\\newid_xy_`i'.dta\n",
    "}\n",
    "."
   ]
  },
  {
   "cell_type": "code",
   "execution_count": 52,
   "metadata": {},
   "outputs": [
    {
     "name": "stdout",
     "output_type": "stream",
     "text": [
      "\n",
      "\n",
      "\n",
      "Duplicates in terms of newid year\n",
      "\n",
      "\n",
      "        dup |      Freq.     Percent        Cum.\n",
      "------------+-----------------------------------\n",
      "          0 |  5,591,788      100.00      100.00\n",
      "------------+-----------------------------------\n",
      "      Total |  5,591,788      100.00\n"
     ]
    }
   ],
   "source": [
    "tab year\n",
    "duplicates tag newid year, gen(dup)\n",
    "tab dup\n",
    "\n",
    "merge m:1 x y year using data\\distance_xy_allyears.dta\n",
    "\n",
    "drop _merge dup\n",
    "drop if missing(newid)|missing(year)\n",
    "sort newid year\n",
    "\n",
    "duplicates tag newid year, gen(dup)\n",
    "tab dup\n",
    "drop dup\n",
    "\n",
    "drop if newid==\".\"\n",
    "compress\n",
    "save S:\\Personal\\hw1220\\fresh\\data\\distance_newid.dta, replace\n",
    "erase S:\\Personal\\hw1220\\fresh\\data\\newid_xy_16.dta"
   ]
  },
  {
   "cell_type": "markdown",
   "metadata": {},
   "source": [
    "### tab store coverage by year"
   ]
  },
  {
   "cell_type": "code",
   "execution_count": 62,
   "metadata": {},
   "outputs": [
    {
     "name": "stdout",
     "output_type": "stream",
     "text": [
      "\n",
      "Sheet1$_yea |\n",
      "          r |      Freq.     Percent        Cum.\n",
      "------------+-----------------------------------\n",
      "       2012 |  1,054,760       18.86       18.86\n",
      "       2013 |  1,093,100       19.55       38.41\n",
      "       2014 |  1,145,820       20.49       58.90\n",
      "       2015 |  1,164,178       20.82       79.72\n",
      "       2016 |  1,133,929       20.28      100.00\n",
      "------------+-----------------------------------\n",
      "      Total |  5,591,787      100.00\n"
     ]
    }
   ],
   "source": [
    "tab year"
   ]
  },
  {
   "cell_type": "code",
   "execution_count": 67,
   "metadata": {},
   "outputs": [
    {
     "name": "stdout",
     "output_type": "stream",
     "text": [
      "\n",
      "---------------------------------------------------------------------------------------------------------------\n",
      "-> year = 2012\n",
      "\n",
      "                  1 name |      Freq.     Percent        Cum.\n",
      "-------------------------+-----------------------------------\n",
      "     2050 Webster Avenue |        248       40.33       40.33\n",
      "        305-325 Avenue M |         96       15.61       55.93\n",
      "       3470 Third Avenue |        271       44.07      100.00\n",
      "-------------------------+-----------------------------------\n",
      "                   Total |        615      100.00\n",
      "\n",
      "---------------------------------------------------------------------------------------------------------------\n",
      "-> year = 2013\n",
      "\n",
      "                  1 name |      Freq.     Percent        Cum.\n",
      "-------------------------+-----------------------------------\n",
      "     2050 Webster Avenue |        244       37.89       37.89\n",
      "        305-325 Avenue M |        104       16.15       54.04\n",
      "       3470 Third Avenue |        296       45.96      100.00\n",
      "-------------------------+-----------------------------------\n",
      "                   Total |        644      100.00\n",
      "\n",
      "---------------------------------------------------------------------------------------------------------------\n",
      "-> year = 2014\n",
      "\n",
      "                  1 name |      Freq.     Percent        Cum.\n",
      "-------------------------+-----------------------------------\n",
      "     2050 Webster Avenue |        260       37.57       37.57\n",
      "        305-325 Avenue M |        109       15.75       53.32\n",
      "       3470 Third Avenue |        323       46.68      100.00\n",
      "-------------------------+-----------------------------------\n",
      "                   Total |        692      100.00\n",
      "\n",
      "---------------------------------------------------------------------------------------------------------------\n",
      "-> year = 2015\n",
      "\n",
      "                  1 name |      Freq.     Percent        Cum.\n",
      "-------------------------+-----------------------------------\n",
      "     2050 Webster Avenue |        284       37.82       37.82\n",
      "        305-325 Avenue M |        108       14.38       52.20\n",
      "       3470 Third Avenue |        359       47.80      100.00\n",
      "-------------------------+-----------------------------------\n",
      "                   Total |        751      100.00\n",
      "\n",
      "---------------------------------------------------------------------------------------------------------------\n",
      "-> year = 2016\n",
      "\n",
      "                  1 name |      Freq.     Percent        Cum.\n",
      "-------------------------+-----------------------------------\n",
      "     2050 Webster Avenue |        279       37.45       37.45\n",
      "        305-325 Avenue M |        103       13.83       51.28\n",
      "       3470 Third Avenue |        363       48.72      100.00\n",
      "-------------------------+-----------------------------------\n",
      "                   Total |        745      100.00\n",
      "\n"
     ]
    }
   ],
   "source": [
    "bys year: tab name1 if dist1<=528 & (strmatch(name1, \"*2050*\")|strmatch(name1, \"*305-325*\")|strmatch(name1, \"*3470*\"))"
   ]
  },
  {
   "cell_type": "code",
   "execution_count": 69,
   "metadata": {},
   "outputs": [
    {
     "name": "stdout",
     "output_type": "stream",
     "text": [
      "\n",
      "---------------------------------------------------------------------------------------------------------------\n",
      "-> year = 2012\n",
      "no observations\n",
      "\n",
      "---------------------------------------------------------------------------------------------------------------\n",
      "-> year = 2013\n",
      "no observations\n",
      "\n",
      "---------------------------------------------------------------------------------------------------------------\n",
      "-> year = 2014\n",
      "no observations\n",
      "\n",
      "---------------------------------------------------------------------------------------------------------------\n",
      "-> year = 2015\n",
      "no observations\n",
      "\n",
      "---------------------------------------------------------------------------------------------------------------\n",
      "-> year = 2016\n",
      "no observations\n",
      "\n"
     ]
    }
   ],
   "source": [
    "bys year: tab name2 if dist2<=528"
   ]
  }
 ],
 "metadata": {
  "kernelspec": {
   "display_name": "Stata",
   "language": "stata",
   "name": "stata"
  },
  "language_info": {
   "codemirror_mode": "stata",
   "file_extension": ".do",
   "mimetype": "text/x-stata",
   "name": "stata",
   "version": "15.1"
  }
 },
 "nbformat": 4,
 "nbformat_minor": 2
}
