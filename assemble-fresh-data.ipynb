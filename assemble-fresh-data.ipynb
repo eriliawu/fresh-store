{
 "cells": [
  {
   "cell_type": "code",
   "execution_count": 3,
   "metadata": {},
   "outputs": [
    {
     "name": "stdout",
     "output_type": "stream",
     "text": [
      "\n",
      "C:\\Users\\wue04\\Box Sync\\fresh\n",
      "\n",
      "\n"
     ]
    }
   ],
   "source": [
    "pwd\n",
    "set more off\n",
    "clear all"
   ]
  },
  {
   "cell_type": "markdown",
   "metadata": {},
   "source": [
    "### clean up raw distance output from ArcGIS"
   ]
  },
  {
   "cell_type": "code",
   "execution_count": null,
   "metadata": {
    "scrolled": true
   },
   "outputs": [],
   "source": [
    "forvalues i=12/16 {\n",
    "    import delimited raw-output\\closest-facility\\closest_20`i'.csv, clear\n",
    "    keep facilityrank incidentid total name \n",
    "    rename facilityrank rank\n",
    "    rename total dist\n",
    "    rename incidentid id\n",
    "    split name, p(\" - \")\n",
    "    drop name name1\n",
    "    rename name2 name\n",
    "    reshape wide dist name, i(id) j(rank)\n",
    "    gen year=20`i'\n",
    "    compress\n",
    "    save data\\dist`i'.dta, replace\n",
    "}\n",
    "."
   ]
  },
  {
   "cell_type": "code",
   "execution_count": null,
   "metadata": {
    "scrolled": true
   },
   "outputs": [],
   "source": [
    "forvalues i=12/15 {\n",
    "    append using data\\dist`i'.dta\n",
    "    erase data\\dist`i'.dta\n",
    "}\n",
    ".\n",
    "\n",
    "merge 1:m id year using data\\address\\xy12-16.dta\n",
    "tab year"
   ]
  },
  {
   "cell_type": "code",
   "execution_count": null,
   "metadata": {},
   "outputs": [],
   "source": [
    "drop id _merge\n",
    "order x y year\n",
    "sort x y year\n",
    "compress\n",
    "save data\\distance_xy_allyears.dta, replace\n",
    "erase data\\dist16.dta"
   ]
  },
  {
   "cell_type": "markdown",
   "metadata": {},
   "source": [
    "### link xy distance to newid"
   ]
  },
  {
   "cell_type": "code",
   "execution_count": null,
   "metadata": {
    "scrolled": true
   },
   "outputs": [],
   "source": [
    "* clean up AP geocoded files\n",
    "forvalues i=12/16 {\n",
    "    use \"S:\\Restricted Data\\Geocoding\\AP\\newid ap coordinates 20`i'.dta\", clear\n",
    "    keep newid year xcoord ycoord *boro* *zip* *atitude* *ongitude*\n",
    "    rename xcoord x\n",
    "    rename ycoord y\n",
    "    rename *boro* boro\n",
    "    rename *zip* zipcode\n",
    "    rename *atitude* lat\n",
    "    rename *ongitude* lon\n",
    "    destring x y boro zipcode lat lon, replace\n",
    "    compress\n",
    "    save S:\\Personal\\hw1220\\fresh\\data\\newid_xy_`i'.dta, replace\n",
    "}\n",
    "."
   ]
  },
  {
   "cell_type": "code",
   "execution_count": null,
   "metadata": {},
   "outputs": [],
   "source": [
    "forvalues i=12/15 {\n",
    "    append using S:\\Personal\\hw1220\\fresh\\data\\newid_xy_`i'.dta\n",
    "    erase S:\\Personal\\hw1220\\fresh\\data\\newid_xy_`i'.dta\n",
    "}\n",
    "."
   ]
  },
  {
   "cell_type": "code",
   "execution_count": 52,
   "metadata": {},
   "outputs": [
    {
     "name": "stdout",
     "output_type": "stream",
     "text": [
      "\n",
      "\n",
      "\n",
      "Duplicates in terms of newid year\n",
      "\n",
      "\n",
      "        dup |      Freq.     Percent        Cum.\n",
      "------------+-----------------------------------\n",
      "          0 |  5,591,788      100.00      100.00\n",
      "------------+-----------------------------------\n",
      "      Total |  5,591,788      100.00\n"
     ]
    }
   ],
   "source": [
    "tab year\n",
    "duplicates tag newid year, gen(dup)\n",
    "tab dup\n",
    "\n",
    "merge m:1 x y year using data\\distance_xy_allyears.dta\n",
    "\n",
    "drop _merge dup\n",
    "drop if missing(newid)|missing(year)\n",
    "sort newid year\n",
    "\n",
    "duplicates tag newid year, gen(dup)\n",
    "tab dup\n",
    "drop dup\n",
    "\n",
    "drop if newid==\".\"\n",
    "compress\n",
    "save S:\\Personal\\hw1220\\fresh\\data\\distance_newid.dta, replace\n",
    "erase S:\\Personal\\hw1220\\fresh\\data\\newid_xy_16.dta"
   ]
  },
  {
   "cell_type": "markdown",
   "metadata": {},
   "source": [
    "### tab store coverage by year"
   ]
  },
  {
   "cell_type": "code",
   "execution_count": 5,
   "metadata": {},
   "outputs": [],
   "source": [
    "use S:\\Personal\\hw1220\\fresh\\data\\distance_newid.dta, clear"
   ]
  },
  {
   "cell_type": "code",
   "execution_count": 9,
   "metadata": {},
   "outputs": [
    {
     "name": "stdout",
     "output_type": "stream",
     "text": [
      "newid    year     x        y        boro     zipcode  lat      lon      dist1    name1    dist2    name2    dist3    name3    dist4    name4\n"
     ]
    }
   ],
   "source": [
    "ds"
   ]
  },
  {
   "cell_type": "code",
   "execution_count": 6,
   "metadata": {},
   "outputs": [
    {
     "name": "stdout",
     "output_type": "stream",
     "text": [
      "\n",
      "Sheet1$_yea |\n",
      "          r |      Freq.     Percent        Cum.\n",
      "------------+-----------------------------------\n",
      "       2012 |  1,054,760       18.86       18.86\n",
      "       2013 |  1,093,100       19.55       38.41\n",
      "       2014 |  1,145,820       20.49       58.90\n",
      "       2015 |  1,164,178       20.82       79.72\n",
      "       2016 |  1,133,929       20.28      100.00\n",
      "------------+-----------------------------------\n",
      "      Total |  5,591,787      100.00\n"
     ]
    }
   ],
   "source": [
    "tab year"
   ]
  },
  {
   "cell_type": "code",
   "execution_count": 8,
   "metadata": {},
   "outputs": [],
   "source": [
    "bys year: tab name1 if dist1<=528"
   ]
  },
  {
   "cell_type": "code",
   "execution_count": 13,
   "metadata": {},
   "outputs": [
    {
     "name": "stdout",
     "output_type": "stream",
     "text": [
      "\n",
      "Table output written to: test.csv\n",
      "\n",
      "1 name  No.\n",
      "1635 Lexington Ave      288.0\n",
      "1851 Bruckner Blvd      29.0\n",
      "2050 Webster Avenue     279.0\n",
      "21 Manhattan Avenue     266.0\n",
      "238 E 161st Street      117.0\n",
      "300 Sand Lane   47.0\n",
      "305-325 Avenue M        103.0\n",
      "34-20 Junction Boulevard        242.0\n",
      "3470 Third Avenue       363.0\n",
      "445 East 163rd Street   98.0\n",
      "459 East 149th Street   51.0\n",
      "Total   1,883.0\n"
     ]
    }
   ],
   "source": [
    "tabout name1 if dist1<=528 & year==2016 using test.csv, replace"
   ]
  },
  {
   "cell_type": "code",
   "execution_count": 1,
   "metadata": {},
   "outputs": [],
   "source": [
    "help tabout"
   ]
  }
 ],
 "metadata": {
  "kernelspec": {
   "display_name": "Stata",
   "language": "stata",
   "name": "stata"
  },
  "language_info": {
   "codemirror_mode": "stata",
   "file_extension": ".do",
   "mimetype": "text/x-stata",
   "name": "stata",
   "version": "15.1"
  }
 },
 "nbformat": 4,
 "nbformat_minor": 2
}
